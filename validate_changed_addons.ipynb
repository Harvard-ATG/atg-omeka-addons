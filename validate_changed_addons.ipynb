{
 "cells": [
  {
   "cell_type": "code",
   "execution_count": null,
   "metadata": {},
   "outputs": [],
   "source": [
    "from IPython.core.display import display, HTML\n",
    "import yaml"
   ]
  },
  {
   "cell_type": "code",
   "execution_count": null,
   "metadata": {},
   "outputs": [],
   "source": [
    "thingToUpdate = 'invalid'\n",
    "while thingToUpdate not in ['plugins', 'themes']:\n",
    "    thingToUpdate = input(\"What do you want to update? (plugins or themes)?\")"
   ]
  },
  {
   "cell_type": "code",
   "execution_count": null,
   "metadata": {},
   "outputs": [],
   "source": [
    "with open(f'all_{thingToUpdate}_info.yml', 'r') as file:\n",
    "    originalEntryInfo = yaml.load(file, Loader=yaml.FullLoader)"
   ]
  },
  {
   "cell_type": "code",
   "execution_count": null,
   "metadata": {},
   "outputs": [],
   "source": [
    "def describe_entry(entry):\n",
    "    properties = []\n",
    "    for key, value in entry.items():\n",
    "        if key in ['description_url', 'download_url']:\n",
    "            properties.append(f'{key.capitalize()}: <a href=\"{value}\">{value}</a>')\n",
    "        else:\n",
    "            properties.append(f'{key.capitalize()}: {value}')\n",
    "    description = '<br/>'.join(properties)\n",
    "    return description"
   ]
  },
  {
   "cell_type": "code",
   "execution_count": null,
   "metadata": {},
   "outputs": [],
   "source": [
    "for name, entry in originalEntryInfo.items():\n",
    "    if 'available' not in entry:\n",
    "        display(HTML(describe_entry(entry)))\n",
    "        available = 'invalid'\n",
    "        while available not in ['Y', 'N']:\n",
    "            available = input(\"Make this plugin available? (Y/N)\")\n",
    "        note = input(\"Add any note about the plugin (justification for availablility)\")\n",
    "        if available == 'Y':\n",
    "            originalEntryInfo[name]['available'] = True\n",
    "        else:\n",
    "            originalEntryInfo[name]['available'] = False\n",
    "        originalEntryInfo[name]['note'] = note\n",
    "        with open(f'all_{thingToUpdate}_info.yml', 'w') as file:\n",
    "            documents = yaml.dump(originalEntryInfo, file)"
   ]
  },
  {
   "cell_type": "code",
   "execution_count": null,
   "metadata": {},
   "outputs": [],
   "source": [
    "with open(f'{thingToUpdate}.yml', 'r') as file:\n",
    "    cache_config = yaml.load(file, Loader=yaml.FullLoader)"
   ]
  },
  {
   "cell_type": "code",
   "execution_count": null,
   "metadata": {},
   "outputs": [],
   "source": [
    "for name, entry in originalEntryInfo.items():\n",
    "    if entry['available']:\n",
    "        if name in cache_config:\n",
    "            # Plugin exists in cache config\n",
    "            if cache_config[name]['url'] != entry['download_url']:\n",
    "                # Download urls differ, need input on which to use\n",
    "                print(f\"Addon download links differ.\\nOld: {cache_config[name]['url']}\\nNew: {entry['download_url']}\")\n",
    "                do_update = 'invalid'\n",
    "                while do_update not in ['Y', 'N']:\n",
    "                    do_update = input(\"Replace the old link with the new one? (Y/N)\")\n",
    "                if do_update == 'Y':\n",
    "                    cache_config[name]['url'] = entry['download_url']\n",
    "                continue\n",
    "            else:\n",
    "                # Download urls are the same, nothing to do\n",
    "                continue\n",
    "        else:\n",
    "            # Plugin does not exist in cache config, but is listed as available. Need input on name parameter.\n",
    "            print(f\"Please provide a name for {entry['name']}\")\n",
    "            plugin_folder_name = input(\"Name for addon folder (if for plugin, needs to match main plugin php file)\")\n",
    "            cache_config[name] = {\n",
    "                'name': plugin_folder_name,\n",
    "                'url': entry['download_url']\n",
    "            }\n",
    "            continue\n",
    "    else:\n",
    "        # Plugin is not listed as available, nothing to do\n",
    "        continue"
   ]
  },
  {
   "cell_type": "code",
   "execution_count": null,
   "metadata": {},
   "outputs": [],
   "source": [
    "with open(f'{thingToUpdate}.yml', 'w') as file:\n",
    "    documents = yaml.dump(cache_config, file)"
   ]
  }
 ],
 "metadata": {
  "kernelspec": {
   "display_name": "Python 3",
   "language": "python",
   "name": "python3"
  },
  "language_info": {
   "codemirror_mode": {
    "name": "ipython",
    "version": 3
   },
   "file_extension": ".py",
   "mimetype": "text/x-python",
   "name": "python",
   "nbconvert_exporter": "python",
   "pygments_lexer": "ipython3",
   "version": "3.6.1"
  }
 },
 "nbformat": 4,
 "nbformat_minor": 4
}
