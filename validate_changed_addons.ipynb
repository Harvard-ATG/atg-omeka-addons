{
 "cells": [
  {
   "cell_type": "code",
   "execution_count": 1,
   "metadata": {},
   "outputs": [],
   "source": [
    "from IPython.core.display import display, HTML\n",
    "import yaml"
   ]
  },
  {
   "cell_type": "code",
   "execution_count": 2,
   "metadata": {},
   "outputs": [
    {
     "name": "stdin",
     "output_type": "stream",
     "text": [
      "What do you want to update? (plugins or themes)? themes\n"
     ]
    }
   ],
   "source": [
    "thingToUpdate = 'invalid'\n",
    "while thingToUpdate not in ['plugins', 'themes']:\n",
    "    thingToUpdate = input(\"What do you want to update? (plugins or themes)?\")"
   ]
  },
  {
   "cell_type": "code",
   "execution_count": 3,
   "metadata": {},
   "outputs": [],
   "source": [
    "with open(f'all_{thingToUpdate}_info.yml', 'r') as file:\n",
    "    originalEntryInfo = yaml.load(file, Loader=yaml.FullLoader)"
   ]
  },
  {
   "cell_type": "code",
   "execution_count": 4,
   "metadata": {},
   "outputs": [],
   "source": [
    "def describe_entry(entry):\n",
    "    properties = []\n",
    "    for key, value in entry.items():\n",
    "        if key in ['description_url', 'download_url']:\n",
    "            properties.append(f'{key.capitalize()}: <a href=\"{value}\">{value}</a>')\n",
    "        else:\n",
    "            properties.append(f'{key.capitalize()}: {value}')\n",
    "    description = '<br/>'.join(properties)\n",
    "    return description"
   ]
  },
  {
   "cell_type": "code",
   "execution_count": 5,
   "metadata": {},
   "outputs": [
    {
     "data": {
      "text/html": [
       "Description: Abstraction of the Making the History of 1989 theme.<br/>Description_url: <a href=\"https://omeka.org/classic/themes/berlin\">https://omeka.org/classic/themes/berlin</a><br/>Download_url: <a href=\"https://github.com/omeka/theme-berlin/releases/download/v2.7/theme-berlin-v2.7.zip\">https://github.com/omeka/theme-berlin/releases/download/v2.7/theme-berlin-v2.7.zip</a><br/>Name: Berlin<br/>Updated: March 22, 2021<br/>Version: 2.7"
      ],
      "text/plain": [
       "<IPython.core.display.HTML object>"
      ]
     },
     "metadata": {},
     "output_type": "display_data"
    },
    {
     "name": "stdin",
     "output_type": "stream",
     "text": [
      "Make this plugin available? (Y/N) Y\n",
      "Add any note about the plugin (justification for availablility) Works\n"
     ]
    },
    {
     "data": {
      "text/html": [
       "Description: An image-centric theme geared towards art historians and students.<br/>Description_url: <a href=\"https://omeka.org/classic/themes/bigpicture\">https://omeka.org/classic/themes/bigpicture</a><br/>Download_url: <a href=\"https://github.com/omeka/theme-bigpicture/releases/download/v1.5.1/theme-bigpicture-v1.5.1.zip\">https://github.com/omeka/theme-bigpicture/releases/download/v1.5.1/theme-bigpicture-v1.5.1.zip</a><br/>Name: Big Picture<br/>Updated: May 13, 2021<br/>Version: 1.5.1"
      ],
      "text/plain": [
       "<IPython.core.display.HTML object>"
      ]
     },
     "metadata": {},
     "output_type": "display_data"
    },
    {
     "name": "stdin",
     "output_type": "stream",
     "text": [
      "Make this plugin available? (Y/N) Y\n",
      "Add any note about the plugin (justification for availablility) Works\n"
     ]
    },
    {
     "data": {
      "text/html": [
       "Description: Theme for use with conference papers, based on Berlin.<br/>Description_url: <a href=\"https://omeka.org/classic/themes/bigstuff\">https://omeka.org/classic/themes/bigstuff</a><br/>Download_url: <a href=\"https://github.com/charvolant/bigstuff/releases/download/v1.1/bigstuff.zip\">https://github.com/charvolant/bigstuff/releases/download/v1.1/bigstuff.zip</a><br/>Name: BigStuff<br/>Updated: January 26, 2019<br/>Version: 1.0"
      ],
      "text/plain": [
       "<IPython.core.display.HTML object>"
      ]
     },
     "metadata": {},
     "output_type": "display_data"
    },
    {
     "name": "stdin",
     "output_type": "stream",
     "text": [
      "Make this plugin available? (Y/N) Y\n",
      "Add any note about the plugin (justification for availablility) Works\n"
     ]
    },
    {
     "data": {
      "text/html": [
       "Description: Image-oriented theme for Omeka. This theme does not support nested top navigation.<br/>Description_url: <a href=\"https://omeka.org/classic/themes/centerrow\">https://omeka.org/classic/themes/centerrow</a><br/>Download_url: <a href=\"https://github.com/omeka/theme-centerrow/releases/download/v1.5.1/theme-centerrow-v1.5.1.zip\">https://github.com/omeka/theme-centerrow/releases/download/v1.5.1/theme-centerrow-v1.5.1.zip</a><br/>Name: Center Row<br/>Updated: May 14, 2021<br/>Version: 1.5.1"
      ],
      "text/plain": [
       "<IPython.core.display.HTML object>"
      ]
     },
     "metadata": {},
     "output_type": "display_data"
    },
    {
     "name": "stdin",
     "output_type": "stream",
     "text": [
      "Make this plugin available? (Y/N) Y\n",
      "Add any note about the plugin (justification for availablility) Works\n"
     ]
    },
    {
     "data": {
      "text/html": [
       "Description: Named after our favorite robot. A simple, minimal theme with reds and greens.<br/>Description_url: <a href=\"https://omeka.org/classic/themes/emiglio\">https://omeka.org/classic/themes/emiglio</a><br/>Download_url: <a href=\"https://github.com/omeka/theme-emiglio/releases/download/v2.4/theme-emiglio-v2.4.zip\">https://github.com/omeka/theme-emiglio/releases/download/v2.4/theme-emiglio-v2.4.zip</a><br/>Name: Emiglio<br/>Updated: March 22, 2021<br/>Version: 2.4"
      ],
      "text/plain": [
       "<IPython.core.display.HTML object>"
      ]
     },
     "metadata": {},
     "output_type": "display_data"
    },
    {
     "name": "stdin",
     "output_type": "stream",
     "text": [
      "Make this plugin available? (Y/N) Y\n",
      "Add any note about the plugin (justification for availablility) Works\n"
     ]
    },
    {
     "data": {
      "text/html": [
       "Description: A starter theme using the ZURB Foundation toolkit.<br/>Description_url: <a href=\"https://omeka.org/classic/themes/foundation\">https://omeka.org/classic/themes/foundation</a><br/>Download_url: <a href=\"https://github.com/omeka/theme-foundation-classic/releases/download/v1.1.1/theme-foundation-classic-v1.1.1.zip\">https://github.com/omeka/theme-foundation-classic/releases/download/v1.1.1/theme-foundation-classic-v1.1.1.zip</a><br/>Name: Foundation<br/>Updated: April 07, 2021<br/>Version: 1.1.1"
      ],
      "text/plain": [
       "<IPython.core.display.HTML object>"
      ]
     },
     "metadata": {},
     "output_type": "display_data"
    },
    {
     "name": "stdin",
     "output_type": "stream",
     "text": [
      "Make this plugin available? (Y/N) Y\n",
      "Add any note about the plugin (justification for availablility) Works\n"
     ]
    },
    {
     "data": {
      "text/html": [
       "Description: Clean lines, architectural.<br/>Description_url: <a href=\"https://omeka.org/classic/themes/minimalist\">https://omeka.org/classic/themes/minimalist</a><br/>Download_url: <a href=\"https://github.com/omeka/theme-minimalist/releases/download/v2.5/theme-minimalist-v2.5.zip\">https://github.com/omeka/theme-minimalist/releases/download/v2.5/theme-minimalist-v2.5.zip</a><br/>Name: Minimalist<br/>Updated: March 22, 2021<br/>Version: 2.5"
      ],
      "text/plain": [
       "<IPython.core.display.HTML object>"
      ]
     },
     "metadata": {},
     "output_type": "display_data"
    },
    {
     "name": "stdin",
     "output_type": "stream",
     "text": [
      "Make this plugin available? (Y/N) Y\n",
      "Add any note about the plugin (justification for availablility) Works\n"
     ]
    },
    {
     "data": {
      "text/html": [
       "Description: An energetic two-column theme, with different style sheet options<br/>Description_url: <a href=\"https://omeka.org/classic/themes/rhythm\">https://omeka.org/classic/themes/rhythm</a><br/>Download_url: <a href=\"https://github.com/omeka/theme-rhythm/releases/download/v2.4/theme-rhythm-v2.4.zip\">https://github.com/omeka/theme-rhythm/releases/download/v2.4/theme-rhythm-v2.4.zip</a><br/>Name: Rhythm<br/>Updated: March 22, 2021<br/>Version: 2.4.0"
      ],
      "text/plain": [
       "<IPython.core.display.HTML object>"
      ]
     },
     "metadata": {},
     "output_type": "display_data"
    },
    {
     "name": "stdin",
     "output_type": "stream",
     "text": [
      "Make this plugin available? (Y/N) Y\n",
      "Add any note about the plugin (justification for availablility) Works\n"
     ]
    },
    {
     "data": {
      "text/html": [
       "Description: Theme based on the Bracero History Archive.<br/>Description_url: <a href=\"https://omeka.org/classic/themes/santa-fe\">https://omeka.org/classic/themes/santa-fe</a><br/>Download_url: <a href=\"https://github.com/omeka/theme-santa-fe/releases/download/v2.5/theme-santa-fe-v2.5.zip\">https://github.com/omeka/theme-santa-fe/releases/download/v2.5/theme-santa-fe-v2.5.zip</a><br/>Name: Santa Fe<br/>Updated: March 22, 2021<br/>Version: 2.5"
      ],
      "text/plain": [
       "<IPython.core.display.HTML object>"
      ]
     },
     "metadata": {},
     "output_type": "display_data"
    },
    {
     "name": "stdin",
     "output_type": "stream",
     "text": [
      "Make this plugin available? (Y/N) Y\n",
      "Add any note about the plugin (justification for availablility) Works\n"
     ]
    },
    {
     "data": {
      "text/html": [
       "Description: A colorful theme with a configuration option to switch style sheets for a particular season, plus 'night'.<br/>Description_url: <a href=\"https://omeka.org/classic/themes/seasons\">https://omeka.org/classic/themes/seasons</a><br/>Download_url: <a href=\"https://github.com/omeka/theme-seasons/releases/download/v2.6/theme-seasons-v2.6.zip\">https://github.com/omeka/theme-seasons/releases/download/v2.6/theme-seasons-v2.6.zip</a><br/>Name: Seasons<br/>Updated: March 22, 2021<br/>Version: 2.6"
      ],
      "text/plain": [
       "<IPython.core.display.HTML object>"
      ]
     },
     "metadata": {},
     "output_type": "display_data"
    },
    {
     "name": "stdin",
     "output_type": "stream",
     "text": [
      "Make this plugin available? (Y/N) Y\n",
      "Add any note about the plugin (justification for availablility) Works\n"
     ]
    },
    {
     "data": {
      "text/html": [
       "Description: A tribute to Roy Rosenzweig, with updated typography and responsive styles.<br/>Description_url: <a href=\"https://omeka.org/classic/themes/default\">https://omeka.org/classic/themes/default</a><br/>Download_url: <a href=\"https://github.com/omeka/theme-thanksroy/releases/download/v2.6.2/theme-thanksroy-v2.6.2.zip\">https://github.com/omeka/theme-thanksroy/releases/download/v2.6.2/theme-thanksroy-v2.6.2.zip</a><br/>Name: Thanks, Roy<br/>Updated: April 29, 2021<br/>Version: 2.6.2"
      ],
      "text/plain": [
       "<IPython.core.display.HTML object>"
      ]
     },
     "metadata": {},
     "output_type": "display_data"
    },
    {
     "name": "stdin",
     "output_type": "stream",
     "text": [
      "Make this plugin available? (Y/N) Y\n",
      "Add any note about the plugin (justification for availablility) Works, default\n"
     ]
    },
    {
     "data": {
      "text/html": [
       "Description: Image-oriented theme for Omeka.<br/>Description_url: <a href=\"https://omeka.org/classic/themes/thedaily\">https://omeka.org/classic/themes/thedaily</a><br/>Download_url: <a href=\"https://github.com/omeka/theme-thedaily/releases/download/v1.5.1/theme-thedaily-v1.5.1.zip\">https://github.com/omeka/theme-thedaily/releases/download/v1.5.1/theme-thedaily-v1.5.1.zip</a><br/>Name: The Daily<br/>Updated: May 14, 2021<br/>Version: 1.5.1"
      ],
      "text/plain": [
       "<IPython.core.display.HTML object>"
      ]
     },
     "metadata": {},
     "output_type": "display_data"
    },
    {
     "name": "stdin",
     "output_type": "stream",
     "text": [
      "Make this plugin available? (Y/N) Y\n",
      "Add any note about the plugin (justification for availablility) Works\n"
     ]
    }
   ],
   "source": [
    "for name, entry in originalEntryInfo.items():\n",
    "    if 'available' not in entry:\n",
    "        display(HTML(describe_entry(entry)))\n",
    "        available = 'invalid'\n",
    "        while available not in ['Y', 'N']:\n",
    "            available = input(\"Make this plugin available? (Y/N)\")\n",
    "        note = input(\"Add any note about the plugin (justification for availablility)\")\n",
    "        if available == 'Y':\n",
    "            originalEntryInfo[name]['available'] = True\n",
    "        else:\n",
    "            originalEntryInfo[name]['available'] = False\n",
    "        originalEntryInfo[name]['note'] = note\n",
    "        with open(f'all_{thingToUpdate}_info.yml', 'w') as file:\n",
    "            documents = yaml.dump(originalEntryInfo, file)"
   ]
  },
  {
   "cell_type": "code",
   "execution_count": 6,
   "metadata": {},
   "outputs": [],
   "source": [
    "with open(f'{thingToUpdate}.yml', 'r') as file:\n",
    "    cache_config = yaml.load(file, Loader=yaml.FullLoader)"
   ]
  },
  {
   "cell_type": "code",
   "execution_count": 8,
   "metadata": {},
   "outputs": [
    {
     "name": "stdout",
     "output_type": "stream",
     "text": [
      "Please provide a name for BigStuff\n"
     ]
    },
    {
     "name": "stdin",
     "output_type": "stream",
     "text": [
      "Name for addon folder (if for plugin, needs to match main plugin php file) BigStuff\n"
     ]
    },
    {
     "name": "stdout",
     "output_type": "stream",
     "text": [
      "Addon download links differ.\n",
      "Old: https://github.com/omeka/theme-centerrow/releases/download/v1.4.1/centerrow-v1.4.1.zip\n",
      "New: https://github.com/omeka/theme-centerrow/releases/download/v1.5.1/theme-centerrow-v1.5.1.zip\n"
     ]
    },
    {
     "name": "stdin",
     "output_type": "stream",
     "text": [
      "Replace the old link with the new one? (Y/N) Y\n"
     ]
    },
    {
     "name": "stdout",
     "output_type": "stream",
     "text": [
      "Addon download links differ.\n",
      "Old: https://github.com/omeka/theme-emiglio/releases/download/v2.3/theme-emiglio-v2.3.zip\n",
      "New: https://github.com/omeka/theme-emiglio/releases/download/v2.4/theme-emiglio-v2.4.zip\n"
     ]
    },
    {
     "name": "stdin",
     "output_type": "stream",
     "text": [
      "Replace the old link with the new one? (Y/N) Y\n"
     ]
    },
    {
     "name": "stdout",
     "output_type": "stream",
     "text": [
      "Please provide a name for Foundation\n"
     ]
    },
    {
     "name": "stdin",
     "output_type": "stream",
     "text": [
      "Name for addon folder (if for plugin, needs to match main plugin php file) Foundation\n"
     ]
    },
    {
     "name": "stdout",
     "output_type": "stream",
     "text": [
      "Addon download links differ.\n",
      "Old: https://github.com/omeka/theme-minimalist/releases/download/v2.4.2/minimalist-v2.4.2.zip\n",
      "New: https://github.com/omeka/theme-minimalist/releases/download/v2.5/theme-minimalist-v2.5.zip\n"
     ]
    },
    {
     "name": "stdin",
     "output_type": "stream",
     "text": [
      "Replace the old link with the new one? (Y/N) Y\n"
     ]
    },
    {
     "name": "stdout",
     "output_type": "stream",
     "text": [
      "Addon download links differ.\n",
      "Old: https://github.com/omeka/theme-rhythm/releases/download/v2.3.1/rhythm-v2.3.1.zip\n",
      "New: https://github.com/omeka/theme-rhythm/releases/download/v2.4/theme-rhythm-v2.4.zip\n"
     ]
    },
    {
     "name": "stdin",
     "output_type": "stream",
     "text": [
      "Replace the old link with the new one? (Y/N) Y\n"
     ]
    },
    {
     "name": "stdout",
     "output_type": "stream",
     "text": [
      "Addon download links differ.\n",
      "Old: https://github.com/omeka/theme-santa-fe/releases/download/v2.4/santa-fe-v2.4.zip\n",
      "New: https://github.com/omeka/theme-santa-fe/releases/download/v2.5/theme-santa-fe-v2.5.zip\n"
     ]
    },
    {
     "name": "stdin",
     "output_type": "stream",
     "text": [
      "Replace the old link with the new one? (Y/N) Y\n"
     ]
    },
    {
     "name": "stdout",
     "output_type": "stream",
     "text": [
      "Addon download links differ.\n",
      "Old: https://github.com/omeka/theme-seasons/releases/download/v2.5.1/seasons-v2.5.1.zip\n",
      "New: https://github.com/omeka/theme-seasons/releases/download/v2.6/theme-seasons-v2.6.zip\n"
     ]
    },
    {
     "name": "stdin",
     "output_type": "stream",
     "text": [
      "Replace the old link with the new one? (Y/N) Y\n"
     ]
    },
    {
     "name": "stdout",
     "output_type": "stream",
     "text": [
      "Please provide a name for Thanks, Roy\n"
     ]
    },
    {
     "name": "stdin",
     "output_type": "stream",
     "text": [
      "Name for addon folder (if for plugin, needs to match main plugin php file) default\n"
     ]
    },
    {
     "name": "stdout",
     "output_type": "stream",
     "text": [
      "Addon download links differ.\n",
      "Old: https://github.com/omeka/theme-thedaily/releases/download/v1.4.1/thedaily-v1.4.1.zip\n",
      "New: https://github.com/omeka/theme-thedaily/releases/download/v1.5.1/theme-thedaily-v1.5.1.zip\n"
     ]
    },
    {
     "name": "stdin",
     "output_type": "stream",
     "text": [
      "Replace the old link with the new one? (Y/N) Y\n"
     ]
    }
   ],
   "source": [
    "for name, entry in originalEntryInfo.items():\n",
    "    if entry['available']:\n",
    "        if name in cache_config:\n",
    "            # Plugin exists in cache config\n",
    "            if cache_config[name]['url'] != entry['download_url']:\n",
    "                # Download urls differ, need input on which to use\n",
    "                print(f\"Addon download links differ.\\nOld: {cache_config[name]['url']}\\nNew: {entry['download_url']}\")\n",
    "                do_update = 'invalid'\n",
    "                while do_update not in ['Y', 'N']:\n",
    "                    do_update = input(\"Replace the old link with the new one? (Y/N)\")\n",
    "                if do_update == 'Y':\n",
    "                    cache_config[name]['url'] = entry['download_url']\n",
    "                continue\n",
    "            else:\n",
    "                # Download urls are the same, nothing to do\n",
    "                continue\n",
    "        else:\n",
    "            # Plugin does not exist in cache config, but is listed as available. Need input on name parameter.\n",
    "            print(f\"Please provide a name for {entry['name']}\")\n",
    "            plugin_folder_name = input(\"Name for addon folder (if for plugin, needs to match main plugin php file)\")\n",
    "            cache_config[name] = {\n",
    "                'name': plugin_folder_name,\n",
    "                'url': entry['download_url']\n",
    "            }\n",
    "            continue\n",
    "    else:\n",
    "        # Plugin is not listed as available, nothing to do\n",
    "        continue"
   ]
  },
  {
   "cell_type": "code",
   "execution_count": 9,
   "metadata": {},
   "outputs": [],
   "source": [
    "with open(f'{thingToUpdate}.yml', 'w') as file:\n",
    "    documents = yaml.dump(cache_config, file)"
   ]
  }
 ],
 "metadata": {
  "kernelspec": {
   "display_name": "Python 3",
   "language": "python",
   "name": "python3"
  },
  "language_info": {
   "codemirror_mode": {
    "name": "ipython",
    "version": 3
   },
   "file_extension": ".py",
   "mimetype": "text/x-python",
   "name": "python",
   "nbconvert_exporter": "python",
   "pygments_lexer": "ipython3",
   "version": "3.7.6"
  }
 },
 "nbformat": 4,
 "nbformat_minor": 4
}
