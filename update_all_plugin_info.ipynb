{
 "cells": [
  {
   "cell_type": "code",
   "execution_count": 1,
   "metadata": {},
   "outputs": [],
   "source": [
    "from bs4 import BeautifulSoup\n",
    "import requests\n",
    "import yaml"
   ]
  },
  {
   "cell_type": "code",
   "execution_count": 2,
   "metadata": {},
   "outputs": [],
   "source": [
    "R = requests.get(\"https://omeka.org/classic/plugins/\")"
   ]
  },
  {
   "cell_type": "code",
   "execution_count": 3,
   "metadata": {},
   "outputs": [],
   "source": [
    "soup = BeautifulSoup(R.text, \"html.parser\")"
   ]
  },
  {
   "cell_type": "code",
   "execution_count": 4,
   "metadata": {},
   "outputs": [],
   "source": [
    "entries = soup.select(\".addon-entry\")"
   ]
  },
  {
   "cell_type": "code",
   "execution_count": 5,
   "metadata": {},
   "outputs": [],
   "source": [
    "def get_description_url(element):\n",
    "    link = element.find('h4').find('a').get('href')\n",
    "    if link[:4] != 'http':\n",
    "        link = f'https://omeka.org/classic/plugins/{link}'\n",
    "    return link"
   ]
  },
  {
   "cell_type": "code",
   "execution_count": 6,
   "metadata": {},
   "outputs": [],
   "source": [
    "entryInfo = {}\n",
    "for e in entries:\n",
    "    eInfo = {\n",
    "        'name': e.find('h4').get_text(),\n",
    "        'description': e.find(attrs={'class':'description'}).get_text(),\n",
    "        'download_url': e.find('a', attrs={'class':'button'}).get('href'),\n",
    "        'description_url': get_description_url(e),\n",
    "        'version': e.find(attrs={'class':'version'}).get_text(),\n",
    "        'updated': e.find(attrs={'class':'date'}).get_text(),\n",
    "    }\n",
    "    entryInfo[eInfo['name']] = eInfo"
   ]
  },
  {
   "cell_type": "code",
   "execution_count": 7,
   "metadata": {},
   "outputs": [],
   "source": [
    "for key,e in entryInfo.items():\n",
    "    e['version'] = e['version'].replace('Latest Version: ','')\n",
    "    e['updated'] = e['updated'].replace('Updated: ', '')"
   ]
  },
  {
   "cell_type": "code",
   "execution_count": 8,
   "metadata": {},
   "outputs": [],
   "source": [
    "with open('all_plugin_info.yml', 'r') as file:\n",
    "    originalEntryInfo = yaml.load(file, Loader=yaml.FullLoader)"
   ]
  },
  {
   "cell_type": "code",
   "execution_count": 9,
   "metadata": {},
   "outputs": [],
   "source": [
    "for key, info in entryInfo.items():\n",
    "    if key not in originalEntryInfo:\n",
    "        originalEntryInfo[key] = info\n",
    "    else:\n",
    "        originalEntryInfo[key].update(info)"
   ]
  },
  {
   "cell_type": "code",
   "execution_count": 10,
   "metadata": {},
   "outputs": [],
   "source": [
    "with open('all_plugin_info.yml', 'w') as file:\n",
    "    documents = yaml.dump(originalEntryInfo, file)"
   ]
  }
 ],
 "metadata": {
  "kernelspec": {
   "display_name": "Python 3",
   "language": "python",
   "name": "python3"
  },
  "language_info": {
   "codemirror_mode": {
    "name": "ipython",
    "version": 3
   },
   "file_extension": ".py",
   "mimetype": "text/x-python",
   "name": "python",
   "nbconvert_exporter": "python",
   "pygments_lexer": "ipython3",
   "version": "3.7.6"
  }
 },
 "nbformat": 4,
 "nbformat_minor": 4
}
