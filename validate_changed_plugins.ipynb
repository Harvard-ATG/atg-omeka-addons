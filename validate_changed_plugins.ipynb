{
 "cells": [
  {
   "cell_type": "code",
   "execution_count": null,
   "metadata": {},
   "outputs": [],
   "source": [
    "from IPython.core.display import display, HTML\n",
    "import yaml"
   ]
  },
  {
   "cell_type": "code",
   "execution_count": null,
   "metadata": {},
   "outputs": [],
   "source": [
    "with open('all_plugin_info.yml', 'r') as file:\n",
    "    originalEntryInfo = yaml.load(file, Loader=yaml.FullLoader)"
   ]
  },
  {
   "cell_type": "code",
   "execution_count": null,
   "metadata": {},
   "outputs": [],
   "source": [
    "def describe_entry(entry):\n",
    "    properties = []\n",
    "    for key, value in entry.items():\n",
    "        if key in ['description_url', 'download_url']:\n",
    "            properties.append(f'{key.capitalize()}: <a href=\"{value}\">{value}</a>')\n",
    "        else:\n",
    "            properties.append(f'{key.capitalize()}: {value}')\n",
    "    description = '<br/>'.join(properties)\n",
    "    return description"
   ]
  },
  {
   "cell_type": "code",
   "execution_count": null,
   "metadata": {},
   "outputs": [],
   "source": [
    "for name, entry in originalEntryInfo.items():\n",
    "    if 'available' not in entry:\n",
    "        display(HTML(describe_entry(entry)))\n",
    "        available = 'invalid'\n",
    "        while available not in ['Y', 'N']:\n",
    "            available = input(\"Make this plugin available? (Y/N)\")\n",
    "        note = input(\"Add any note about the plugin (justification for availablility)\")\n",
    "        if available == 'Y':\n",
    "            originalEntryInfo[name]['available'] = True\n",
    "        else:\n",
    "            originalEntryInfo[name]['available'] = False\n",
    "        originalEntryInfo[name]['note'] = note\n",
    "        with open('all_plugin_info.yml', 'w') as file:\n",
    "            documents = yaml.dump(originalEntryInfo, file)"
   ]
  }
 ],
 "metadata": {
  "kernelspec": {
   "display_name": "Python 3",
   "language": "python",
   "name": "python3"
  },
  "language_info": {
   "codemirror_mode": {
    "name": "ipython",
    "version": 3
   },
   "file_extension": ".py",
   "mimetype": "text/x-python",
   "name": "python",
   "nbconvert_exporter": "python",
   "pygments_lexer": "ipython3",
   "version": "3.7.6"
  }
 },
 "nbformat": 4,
 "nbformat_minor": 4
}
